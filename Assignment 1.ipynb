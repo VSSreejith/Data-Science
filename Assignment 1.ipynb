{
 "cells": [
  {
   "cell_type": "markdown",
   "id": "b842c536-93ac-4f84-9290-8318c4c4e9d5",
   "metadata": {},
   "source": [
    "# PRACTICE EXERCISES ON PYTHON BASIC"
   ]
  },
  {
   "cell_type": "markdown",
   "id": "0fb7f34b-6de2-46ca-9ec5-39bf5233c3f9",
   "metadata": {},
   "source": [
    "# 1. Area of a Circle"
   ]
  },
  {
   "cell_type": "code",
   "execution_count": 4,
   "id": "39372c13-fd0d-48f0-b64e-8d437469c27b",
   "metadata": {},
   "outputs": [
    {
     "name": "stdin",
     "output_type": "stream",
     "text": [
      "Enter the raius 3\n"
     ]
    },
    {
     "name": "stdout",
     "output_type": "stream",
     "text": [
      "Radius= 28.26\n"
     ]
    }
   ],
   "source": [
    "r=float(input(\"Enter the raius\"))\n",
    "a=3.14*r**2\n",
    "print(\"Radius=\", a)"
   ]
  },
  {
   "cell_type": "markdown",
   "id": "686a09ff-388d-4e60-9eee-78577b515dc8",
   "metadata": {},
   "source": [
    "# 2. The details of a student like name, rollnumber and mark and display it."
   ]
  },
  {
   "cell_type": "code",
   "execution_count": 8,
   "id": "68010c37-e2d1-4a7e-9992-c5df5154e8be",
   "metadata": {},
   "outputs": [
    {
     "name": "stdin",
     "output_type": "stream",
     "text": [
      "Enter the name Ram\n",
      "Enter the roll no. 203\n",
      "Enter the mark 60\n"
     ]
    },
    {
     "name": "stdout",
     "output_type": "stream",
     "text": [
      "\t\tStudent Details\n",
      "\n",
      "\n",
      "Name :  Ram \n",
      "Roll No.  203 \n",
      "Mark :  60\n"
     ]
    }
   ],
   "source": [
    "n=input(\"Enter the name\")\n",
    "r=input(\"Enter the roll no.\")\n",
    "m=input(\"Enter the mark\");\n",
    "print(\"\\t\\tStudent Details\\n\\n\")\n",
    "print(\"Name : \",n,\"\\nRoll No. \",r,\"\\nMark : \",m)"
   ]
  },
  {
   "cell_type": "markdown",
   "id": "74a7ba09-7baa-41ae-8815-a91aa3d865ba",
   "metadata": {},
   "source": [
    "# 3. Write a Python program to get the largest number from a list."
   ]
  },
  {
   "cell_type": "code",
   "execution_count": 32,
   "id": "73aef596-1ac1-4dd4-b21b-d28ae337a7c5",
   "metadata": {},
   "outputs": [
    {
     "name": "stdin",
     "output_type": "stream",
     "text": [
      "Enter the elements 23 45 12 56 40 34\n"
     ]
    },
    {
     "name": "stdout",
     "output_type": "stream",
     "text": [
      "Largest Element= 56\n"
     ]
    }
   ],
   "source": [
    "list=input(\"Enter the elements\").split()\n",
    "l=int(list[0])\n",
    "for i in list:\n",
    "    m=int(i)\n",
    "    if(m>l):\n",
    "        l=m\n",
    "print(\"Largest Element=\", l)\n",
    "    "
   ]
  },
  {
   "cell_type": "markdown",
   "id": "8e5e2a08-63b3-46ba-a624-1274e0096f5d",
   "metadata": {},
   "source": [
    "# 4. Given a range of first 10 numbers, write a Python program to iterate from start number to the end number and print the sum of the current number and previous number."
   ]
  },
  {
   "cell_type": "code",
   "execution_count": 46,
   "id": "f58f85dc-d9ce-48a5-95ec-37cd511eb7b6",
   "metadata": {},
   "outputs": [
    {
     "name": "stdout",
     "output_type": "stream",
     "text": [
      "\n",
      "Current Number:  0 \tPrevious Number:  0 \tSum:  0\n",
      "\n",
      "Current Number:  1 \tPrevious Number:  0 \tSum:  1\n",
      "\n",
      "Current Number:  2 \tPrevious Number:  1 \tSum:  3\n",
      "\n",
      "Current Number:  3 \tPrevious Number:  2 \tSum:  5\n",
      "\n",
      "Current Number:  4 \tPrevious Number:  3 \tSum:  7\n",
      "\n",
      "Current Number:  5 \tPrevious Number:  4 \tSum:  9\n",
      "\n",
      "Current Number:  6 \tPrevious Number:  5 \tSum:  11\n",
      "\n",
      "Current Number:  7 \tPrevious Number:  6 \tSum:  13\n",
      "\n",
      "Current Number:  8 \tPrevious Number:  7 \tSum:  15\n",
      "\n",
      "Current Number:  9 \tPrevious Number:  8 \tSum:  17\n",
      "\n",
      "Current Number:  10 \tPrevious Number:  9 \tSum:  19\n"
     ]
    }
   ],
   "source": [
    "n=range(11)\n",
    "pn=0\n",
    "for i in n:\n",
    "    s=pn+i\n",
    "    print(\"\\nCurrent Number: \",i,\"\\tPrevious Number: \",pn,\"\\tSum: \",s)\n",
    "    pn=i"
   ]
  },
  {
   "cell_type": "markdown",
   "id": "bef39edd-c29b-45ab-beb5-bd8071ae52d0",
   "metadata": {},
   "source": [
    "# 5. Program to print only those numbers which are divisible of 5"
   ]
  },
  {
   "cell_type": "code",
   "execution_count": 6,
   "id": "ca23128e-6037-4c07-bffe-915edc963987",
   "metadata": {},
   "outputs": [
    {
     "name": "stdin",
     "output_type": "stream",
     "text": [
      "Enter the elements 35 2 42 25 7 88 55\n"
     ]
    },
    {
     "name": "stdout",
     "output_type": "stream",
     "text": [
      "Nos divisible by 5\n",
      "\n",
      "35\n",
      "25\n",
      "55\n"
     ]
    }
   ],
   "source": [
    "list=input(\"Enter the elements\").split()\n",
    "print(\"Nos divisible by 5\\n\")\n",
    "for i in list:\n",
    "    d=int(i)\n",
    "    if(d%5==0):\n",
    "        print(d)\n"
   ]
  },
  {
   "cell_type": "markdown",
   "id": "87a177ea-01d9-4b43-a4fd-e9d8891bf358",
   "metadata": {},
   "source": [
    "# 6. Python program to check whether a number is prime or not."
   ]
  },
  {
   "cell_type": "code",
   "execution_count": 10,
   "id": "094a147c-d1e5-47f4-91b6-49c07871514c",
   "metadata": {},
   "outputs": [
    {
     "name": "stdin",
     "output_type": "stream",
     "text": [
      "Enter the number 13\n"
     ]
    },
    {
     "name": "stdout",
     "output_type": "stream",
     "text": [
      "13  is prime number\n"
     ]
    }
   ],
   "source": [
    "n=int(input(\"Enter the number\"))\n",
    "f=0\n",
    "i=2\n",
    "while(i<n):\n",
    "    if(n%i==0):\n",
    "        f=1\n",
    "        break\n",
    "    i=i+1\n",
    "if(f==0):\n",
    "    print(n,\" is prime number\")\n",
    "else:\n",
    "    print(n,\" is not prime number\")"
   ]
  },
  {
   "cell_type": "markdown",
   "id": "d0dd9d43-9c1b-484e-b127-5bf479226ba1",
   "metadata": {},
   "source": [
    "# 7. Program to construct the following pattern, using a nestedfor loop.\n",
    "# *\n",
    "# **\n",
    "# ***\n",
    "# ****\n",
    "# *****\n",
    "# ****\n",
    "# ***\n",
    "# **\n",
    "# *"
   ]
  },
  {
   "cell_type": "code",
   "execution_count": 47,
   "id": "d83d45cf-3c7c-4e8a-8ad3-4bff919f4f6d",
   "metadata": {},
   "outputs": [
    {
     "name": "stdout",
     "output_type": "stream",
     "text": [
      "*\n",
      "**\n",
      "***\n",
      "****\n",
      "*****\n",
      "****\n",
      "***\n",
      "**\n",
      "*\n"
     ]
    }
   ],
   "source": [
    "n=5\n",
    "for i in range(1,n+1):\n",
    "    for j in range(i):\n",
    "        print(\"*\",end=\"\")\n",
    "    print('')\n",
    "for i in range(n-1,0,-1):\n",
    "    for j in range(i):\n",
    "        print(\"*\",end=\"\")\n",
    "    print('')"
   ]
  },
  {
   "cell_type": "markdown",
   "id": "c1f36c6c-b9f5-444a-ae14-c44662b529ce",
   "metadata": {},
   "source": [
    "# 8. Program to accept a string value from the user and display the count of each character in that string"
   ]
  },
  {
   "cell_type": "code",
   "execution_count": 9,
   "id": "2887564f-a3ae-4fed-b22d-d0ad19ce7ccd",
   "metadata": {},
   "outputs": [
    {
     "name": "stdin",
     "output_type": "stream",
     "text": [
      "Enter the string Malayalam\n"
     ]
    },
    {
     "name": "stdout",
     "output_type": "stream",
     "text": [
      "Count of each character:\n",
      " {'M': 1, 'a': 4, 'l': 2, 'y': 1, 'm': 1}\n"
     ]
    }
   ],
   "source": [
    "s=input(\"Enter the string\")\n",
    "d={}  \n",
    "for i in s: \n",
    "    if i in d: \n",
    "        d[i]=d[i]+1\n",
    "    else: \n",
    "        d[i]=1\n",
    "print (\"Count of each character:\\n \"+ str(d)) \n"
   ]
  },
  {
   "cell_type": "markdown",
   "id": "97f9f6c6-9cc4-4ec2-bf69-24cca39e15aa",
   "metadata": {},
   "source": [
    "# 9. Function to find the maximum of three numbers."
   ]
  },
  {
   "cell_type": "code",
   "execution_count": 92,
   "id": "81319fe2-3fb1-4172-8422-6e8d2fb6d077",
   "metadata": {},
   "outputs": [
    {
     "name": "stdin",
     "output_type": "stream",
     "text": [
      "Enter the first number 90\n",
      "Enter the second number 100\n",
      "Enter the third number 55\n"
     ]
    },
    {
     "name": "stdout",
     "output_type": "stream",
     "text": [
      "Largest number is  100\n"
     ]
    }
   ],
   "source": [
    "def max(a,b,c):\n",
    "    if(a>b):\n",
    "        if(a>c):\n",
    "            return a\n",
    "        else:\n",
    "            return c\n",
    "    else:\n",
    "        if(b>c):\n",
    "            return b\n",
    "        else:\n",
    "            return c\n",
    "\n",
    "a=int(input(\"Enter the first number\"))\n",
    "b=int(input(\"Enter the second number\"))\n",
    "c=int(input(\"Enter the third number\"))\n",
    "d=max(a,b,c)\n",
    "print(\"Largest number is \",d)"
   ]
  },
  {
   "cell_type": "markdown",
   "id": "233a9dcf-8ab7-460c-8bd8-c2597b121bdf",
   "metadata": {},
   "source": [
    "# 10. Function that takes a positive integer and returns the sum of the cube of all the positive integers smaller than the specified number"
   ]
  },
  {
   "cell_type": "code",
   "execution_count": 100,
   "id": "00f55a25-7838-4839-98df-89941f1ddb91",
   "metadata": {},
   "outputs": [
    {
     "name": "stdin",
     "output_type": "stream",
     "text": [
      "Enter the limit 4\n"
     ]
    },
    {
     "name": "stdout",
     "output_type": "stream",
     "text": [
      "Sum of Cube is  36\n"
     ]
    }
   ],
   "source": [
    "def cube(n):\n",
    "    s=0\n",
    "    for i in range(n):\n",
    "        s=s+i**3\n",
    "    return s\n",
    "n=int(input(\"Enter the limit\"))\n",
    "c=cube(n)\n",
    "print(\"Sum of Cube is \",c)\n"
   ]
  },
  {
   "cell_type": "markdown",
   "id": "e5ed8ac9-87bf-4d80-b0bb-6ece1dc771c0",
   "metadata": {},
   "source": [
    "# 11. Program which iterates from 1 to 10. For multiples of 2, print “Fizz” instead of the number and for the multiples of 5, print “Buzz”. For numbers which are multiples of both 2 and 5, print “FizzBuzz”."
   ]
  },
  {
   "cell_type": "code",
   "execution_count": 108,
   "id": "fcc0037d-b6df-4592-910d-ec811aab9664",
   "metadata": {},
   "outputs": [
    {
     "name": "stdout",
     "output_type": "stream",
     "text": [
      "1\n",
      "Fizz\n",
      "3\n",
      "Fizz\n",
      "Buzz\n",
      "Fizz\n",
      "7\n",
      "Fizz\n",
      "9\n",
      "FizzBuzz\n"
     ]
    }
   ],
   "source": [
    "for i in range(1, 11):\n",
    "    if(i%2==0 and i%5==0):\n",
    "        print(\"FizzBuzz\")\n",
    "    elif(i%2==0):\n",
    "        print(\"Fizz\")\n",
    "    elif(i%5==0):\n",
    "        print(\"Buzz\")\n",
    "    else:\n",
    "        print(i)"
   ]
  },
  {
   "cell_type": "markdown",
   "id": "9ec841ef-72b3-4f83-83ac-27f592a89f04",
   "metadata": {},
   "source": [
    "# 12. Function to calculate the factorial of a number (anonnegative integer). The function accepts the number as an argument."
   ]
  },
  {
   "cell_type": "code",
   "execution_count": 123,
   "id": "5f7c0b34-b3fc-44fe-9682-d1b0f040ccb7",
   "metadata": {},
   "outputs": [
    {
     "name": "stdin",
     "output_type": "stream",
     "text": [
      "Enter the number 5\n"
     ]
    },
    {
     "name": "stdout",
     "output_type": "stream",
     "text": [
      "Factorial =  120\n"
     ]
    }
   ],
   "source": [
    "def fact(n):\n",
    "    f=1\n",
    "    for i in range(1,n+1):\n",
    "        f=f*i\n",
    "    return f\n",
    "\n",
    "n=int(input(\"Enter the number\"))\n",
    "f=fact(n)\n",
    "print(\"Factorial = \",f)"
   ]
  },
  {
   "cell_type": "markdown",
   "id": "297aca25-3eb2-49db-a935-d59e0b00393e",
   "metadata": {},
   "source": [
    "# 13. Program to find the most frequent item in a list of numbers."
   ]
  },
  {
   "cell_type": "code",
   "execution_count": 133,
   "id": "6c55be72-177d-45e9-b2aa-45f21ddfd80a",
   "metadata": {},
   "outputs": [
    {
     "name": "stdin",
     "output_type": "stream",
     "text": [
      "Enter the elements 1  2 3 1 4 1 2\n"
     ]
    },
    {
     "name": "stdout",
     "output_type": "stream",
     "text": [
      "Most Frequent item is  1\n"
     ]
    }
   ],
   "source": [
    "l=input(\"Enter the elements\").split()\n",
    "c=0\n",
    "for i in l:\n",
    "    f=l.count(i)\n",
    "    if(f>c):\n",
    "        c=f\n",
    "        n=i\n",
    "print(\"Most Frequent item is \", n)"
   ]
  },
  {
   "cell_type": "markdown",
   "id": "b81c2990-8428-4305-872c-fe75ba0e06b2",
   "metadata": {},
   "source": [
    "# 14. Program to find the sum of squares of the numbers in a list."
   ]
  },
  {
   "cell_type": "code",
   "execution_count": 135,
   "id": "f485c40e-b9a0-4f13-b392-52ed1753c396",
   "metadata": {},
   "outputs": [
    {
     "name": "stdin",
     "output_type": "stream",
     "text": [
      "Enter the elements 2 1 3 1\n"
     ]
    },
    {
     "name": "stdout",
     "output_type": "stream",
     "text": [
      "Sum of Square is  15\n"
     ]
    }
   ],
   "source": [
    "l=input(\"Enter the elements\").split()\n",
    "s=0\n",
    "for i in l:\n",
    "    n=int(i)\n",
    "    s=s+(n**2)\n",
    "print(\"Sum of Square is \", s)"
   ]
  },
  {
   "cell_type": "markdown",
   "id": "6b4e4419-a420-4c02-85a4-c7ebcf97c3da",
   "metadata": {},
   "source": [
    "# 14. Program using for loop that will iterate from 1 to 15. For each iteration, check if the current number is odd or even, and display the message to the screen as odd or even."
   ]
  },
  {
   "cell_type": "code",
   "execution_count": 139,
   "id": "d5b46d27-d451-4762-930d-40a607446ce4",
   "metadata": {},
   "outputs": [
    {
     "name": "stdout",
     "output_type": "stream",
     "text": [
      "1  -  Odd\n",
      "2  -  Even\n",
      "3  -  Odd\n",
      "4  -  Even\n",
      "5  -  Odd\n",
      "6  -  Even\n",
      "7  -  Odd\n",
      "8  -  Even\n",
      "9  -  Odd\n",
      "10  -  Even\n",
      "11  -  Odd\n",
      "12  -  Even\n",
      "13  -  Odd\n",
      "14  -  Even\n"
     ]
    }
   ],
   "source": [
    "for i in range(1,15):\n",
    "    if(i%2==0):\n",
    "        print(i,\" - \",\"Even\")\n",
    "    else:\n",
    "        print(i,\" - \",\"Odd\")\n",
    "              \n",
    "               "
   ]
  },
  {
   "cell_type": "code",
   "execution_count": null,
   "id": "3c5f23e9-7919-4c1d-ad88-b1776931a973",
   "metadata": {},
   "outputs": [],
   "source": []
  }
 ],
 "metadata": {
  "kernelspec": {
   "display_name": "Python 3 (ipykernel)",
   "language": "python",
   "name": "python3"
  },
  "language_info": {
   "codemirror_mode": {
    "name": "ipython",
    "version": 3
   },
   "file_extension": ".py",
   "mimetype": "text/x-python",
   "name": "python",
   "nbconvert_exporter": "python",
   "pygments_lexer": "ipython3",
   "version": "3.12.7"
  }
 },
 "nbformat": 4,
 "nbformat_minor": 5
}
