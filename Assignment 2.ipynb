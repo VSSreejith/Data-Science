{
 "cells": [
  {
   "cell_type": "markdown",
   "id": "452ebbef-b048-4c1f-9308-779eafbf6b15",
   "metadata": {},
   "source": [
    "PRACTICE QUESTIONS ON NUMPY"
   ]
  },
  {
   "cell_type": "markdown",
   "id": "e81755c8-d770-467f-8e1b-914e95a84d3f",
   "metadata": {},
   "source": [
    "1. Python program to create an array and convert to a desired dimension, as shown below.\n",
    "  orginal array [[8 9 10 ] [11 12 13]] reshaped array [[8 9] [10 11] [12 13]]"
   ]
  },
  {
   "cell_type": "code",
   "execution_count": 5,
   "id": "4a4a4fc5-d083-4365-8e00-5fa937c7df31",
   "metadata": {},
   "outputs": [],
   "source": [
    "import numpy as np"
   ]
  },
  {
   "cell_type": "code",
   "execution_count": 7,
   "id": "275ebb4b-34bc-4532-b2ef-03a2575d85c2",
   "metadata": {},
   "outputs": [
    {
     "name": "stdin",
     "output_type": "stream",
     "text": [
      "Enter the number of rows:  2\n",
      "Enter the number of columns:  3\n"
     ]
    },
    {
     "name": "stdout",
     "output_type": "stream",
     "text": [
      "Enter the values row by row:\n"
     ]
    },
    {
     "name": "stdin",
     "output_type": "stream",
     "text": [
      " 8 9 10\n",
      " 11 12 13\n"
     ]
    },
    {
     "name": "stdout",
     "output_type": "stream",
     "text": [
      "Original array:\n",
      " [[ 8  9 10]\n",
      " [11 12 13]]\n",
      "\n",
      "Reshaped array:\n",
      " [[ 8  9]\n",
      " [10 11]\n",
      " [12 13]]\n"
     ]
    }
   ],
   "source": [
    "## r=int(input(\"Enter the number of rows: \"))\n",
    "c=int(input(\"Enter the number of columns: \"))\n",
    "print(\"Enter the values row by row:\")\n",
    "a=np.array([list(map(int, input().split())) for _ in range(r)])\n",
    "print(\"Original array:\\n\",a)\n",
    "nr=a.reshape(3, 2)\n",
    "print(\"\\nReshaped array:\\n\",nr)"
   ]
  },
  {
   "cell_type": "markdown",
   "id": "8f89a9e2-57b6-434e-9956-2e2f6a78a76e",
   "metadata": {},
   "source": [
    "2. Create an array and extract particular set of elements from an array as shown below\n",
    "   orginal array [[8 9] [10 11] [12 13]] Sliced array [9 11]"
   ]
  },
  {
   "cell_type": "code",
   "execution_count": 87,
   "id": "54c1fadb-5d50-4fd3-8d06-a2d114a560fb",
   "metadata": {},
   "outputs": [
    {
     "name": "stdin",
     "output_type": "stream",
     "text": [
      "Enter the number of rows:  3\n",
      "Enter the number of columns:  2\n"
     ]
    },
    {
     "name": "stdout",
     "output_type": "stream",
     "text": [
      "Enter the values row by row:\n"
     ]
    },
    {
     "name": "stdin",
     "output_type": "stream",
     "text": [
      " 1 2\n",
      " 3 4\n",
      " 5 6\n"
     ]
    },
    {
     "name": "stdout",
     "output_type": "stream",
     "text": [
      "Original array:\n",
      " [[1 2]\n",
      " [3 4]\n",
      " [5 6]]\n",
      "\n",
      "Sliced array:\n",
      " [[2]\n",
      " [4]]\n"
     ]
    }
   ],
   "source": [
    "r=int(input(\"Enter the number of rows: \"))\n",
    "c=int(input(\"Enter the number of columns: \"))\n",
    "print(\"Enter the values row by row:\")\n",
    "a=np.array([list(map(int, input().split())) for _ in range(r)])\n",
    "print(\"Original array:\\n\",a)\n",
    "s=a[0:2,1:]\n",
    "print(\"\\nSliced array:\\n\", s)"
   ]
  },
  {
   "cell_type": "markdown",
   "id": "f935ddcd-179d-49d3-aabf-ed40fbc89eeb",
   "metadata": {},
   "source": [
    "Direct Value"
   ]
  },
  {
   "cell_type": "code",
   "execution_count": 85,
   "id": "2dd78911-1218-4820-b356-d63b2523ab32",
   "metadata": {},
   "outputs": [
    {
     "name": "stdout",
     "output_type": "stream",
     "text": [
      "Original array:\n",
      " [[ 8  9]\n",
      " [10 11]\n",
      " [12 13]]\n",
      "\n",
      "Sliced array:\n",
      " [[ 9]\n",
      " [11]]\n"
     ]
    }
   ],
   "source": [
    "a=np.array([[8, 9], [10, 11], [12, 13]])\n",
    "print(\"Original array:\\n\",a)\n",
    "s=a[0:2,1:]\n",
    "print(\"\\nSliced array:\\n\",s)"
   ]
  },
  {
   "cell_type": "code",
   "execution_count": null,
   "id": "af161aa9-abde-4219-b68a-d8d4ab73ce45",
   "metadata": {},
   "outputs": [],
   "source": []
  }
 ],
 "metadata": {
  "kernelspec": {
   "display_name": "Python 3 (ipykernel)",
   "language": "python",
   "name": "python3"
  },
  "language_info": {
   "codemirror_mode": {
    "name": "ipython",
    "version": 3
   },
   "file_extension": ".py",
   "mimetype": "text/x-python",
   "name": "python",
   "nbconvert_exporter": "python",
   "pygments_lexer": "ipython3",
   "version": "3.12.7"
  }
 },
 "nbformat": 4,
 "nbformat_minor": 5
}
